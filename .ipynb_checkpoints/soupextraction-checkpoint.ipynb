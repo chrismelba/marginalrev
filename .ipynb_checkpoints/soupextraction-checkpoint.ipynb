{
 "cells": [
  {
   "cell_type": "code",
   "execution_count": 4,
   "metadata": {},
   "outputs": [],
   "source": [
    "from bs4 import BeautifulSoup\n",
    "import pandas as pd\n",
    "import requests"
   ]
  },
  {
   "cell_type": "code",
   "execution_count": 5,
   "metadata": {},
   "outputs": [
    {
     "ename": "TypeError",
     "evalue": "object of type 'Response' has no len()",
     "output_type": "error",
     "traceback": [
      "\u001b[1;31m---------------------------------------------------------------------------\u001b[0m",
      "\u001b[1;31mTypeError\u001b[0m                                 Traceback (most recent call last)",
      "\u001b[1;32m<ipython-input-5-61e3d8eda986>\u001b[0m in \u001b[0;36m<module>\u001b[1;34m()\u001b[0m\n\u001b[0;32m      1\u001b[0m \u001b[1;33m\u001b[0m\u001b[0m\n\u001b[1;32m----> 2\u001b[1;33m \u001b[0msoup\u001b[0m \u001b[1;33m=\u001b[0m \u001b[0mBeautifulSoup\u001b[0m\u001b[1;33m(\u001b[0m\u001b[0mrequests\u001b[0m\u001b[1;33m.\u001b[0m\u001b[0mget\u001b[0m\u001b[1;33m(\u001b[0m\u001b[1;34m'https://marginalrevolution.com/page/2'\u001b[0m\u001b[1;33m)\u001b[0m\u001b[1;33m,\u001b[0m \u001b[1;34m'html.parser'\u001b[0m\u001b[1;33m)\u001b[0m\u001b[1;33m\u001b[0m\u001b[0m\n\u001b[0m",
      "\u001b[1;32m~\\AppData\\Local\\Continuum\\anaconda3\\lib\\site-packages\\bs4\\__init__.py\u001b[0m in \u001b[0;36m__init__\u001b[1;34m(self, markup, features, builder, parse_only, from_encoding, exclude_encodings, **kwargs)\u001b[0m\n\u001b[0;32m    190\u001b[0m         \u001b[1;32mif\u001b[0m \u001b[0mhasattr\u001b[0m\u001b[1;33m(\u001b[0m\u001b[0mmarkup\u001b[0m\u001b[1;33m,\u001b[0m \u001b[1;34m'read'\u001b[0m\u001b[1;33m)\u001b[0m\u001b[1;33m:\u001b[0m        \u001b[1;31m# It's a file-type object.\u001b[0m\u001b[1;33m\u001b[0m\u001b[0m\n\u001b[0;32m    191\u001b[0m             \u001b[0mmarkup\u001b[0m \u001b[1;33m=\u001b[0m \u001b[0mmarkup\u001b[0m\u001b[1;33m.\u001b[0m\u001b[0mread\u001b[0m\u001b[1;33m(\u001b[0m\u001b[1;33m)\u001b[0m\u001b[1;33m\u001b[0m\u001b[0m\n\u001b[1;32m--> 192\u001b[1;33m         elif len(markup) <= 256 and (\n\u001b[0m\u001b[0;32m    193\u001b[0m                 \u001b[1;33m(\u001b[0m\u001b[0misinstance\u001b[0m\u001b[1;33m(\u001b[0m\u001b[0mmarkup\u001b[0m\u001b[1;33m,\u001b[0m \u001b[0mbytes\u001b[0m\u001b[1;33m)\u001b[0m \u001b[1;32mand\u001b[0m \u001b[1;32mnot\u001b[0m \u001b[1;34mb'<'\u001b[0m \u001b[1;32min\u001b[0m \u001b[0mmarkup\u001b[0m\u001b[1;33m)\u001b[0m\u001b[1;33m\u001b[0m\u001b[0m\n\u001b[0;32m    194\u001b[0m                 \u001b[1;32mor\u001b[0m \u001b[1;33m(\u001b[0m\u001b[0misinstance\u001b[0m\u001b[1;33m(\u001b[0m\u001b[0mmarkup\u001b[0m\u001b[1;33m,\u001b[0m \u001b[0mstr\u001b[0m\u001b[1;33m)\u001b[0m \u001b[1;32mand\u001b[0m \u001b[1;32mnot\u001b[0m \u001b[1;34m'<'\u001b[0m \u001b[1;32min\u001b[0m \u001b[0mmarkup\u001b[0m\u001b[1;33m)\u001b[0m\u001b[1;33m\u001b[0m\u001b[0m\n",
      "\u001b[1;31mTypeError\u001b[0m: object of type 'Response' has no len()"
     ]
    }
   ],
   "source": [
    "\n"
   ]
  },
  {
   "cell_type": "code",
   "execution_count": 12,
   "metadata": {},
   "outputs": [],
   "source": [
    "url = 'https://marginalrevolution.com/page/1'\n",
    "headers = {'User-Agent': 'Mozilla/5.0 (Macintosh; Intel Mac OS X 10_11_5) AppleWebKit/537.36 (KHTML, like Gecko) Chrome/50.0.2661.102 Safari/537.36'}\n",
    "response = requests.get(url, headers = headers)\n",
    "soup = BeautifulSoup(response.content, 'html.parser')"
   ]
  },
  {
   "cell_type": "code",
   "execution_count": 50,
   "metadata": {},
   "outputs": [
    {
     "name": "stdout",
     "output_type": "stream",
     "text": [
      "Wednesday assorted links\n",
      "1. Is this still the best place to be a puffin?\n",
      "https://www.bbc.com/news/in-pictures-49045533\n",
      "2. “For Dr. Kevin Spencer, a solution to stuck rings is long overdue. He said he sees patients with stuck rings in the ER at least once a week.”\n",
      "https://www.cbc.ca/news/canada/nova-scotia/stuck-rings-er-device-1.5225196\n",
      "3. Bruce Caldwell on The Road to Serfdom after 75 years.\n",
      "https://economie.esg.uqam.ca/wp-content/uploads/sites/54/2019/03/Caldwell_Bruce-Mars2019.pdf\n",
      "4. Building iPhones in Vietnam? (NYT)\n",
      "https://www.nytimes.com/2019/07/30/technology/trump-trade-war-vietnam.html\n",
      "5. A Medicare buy-in or public option could easily threaten Obamacare (NYT).\n",
      "https://www.nytimes.com/2019/07/29/health/medicare-public-option.html\n",
      "6. Apollo waste management.\n",
      "https://jalopnik.com/i-took-a-dump-the-same-way-the-apollo-astronauts-did-an-1836637152\n",
      "Tuesday assorted links\n",
      "1. Very good science educational channel on YouTube — Primer.\n",
      "https://www.youtube.com/channel/UCKzJFdi57J53Vr_BkTfN3uQ\n",
      "2. Joe Weisenthal on negative interest rates.\n",
      "https://twitter.com/TheStalwart/status/1155840864146661378\n",
      "3. “The results provide evidence that referees favor home teams, teams losing during games, and teams losing in playoff series. All three biases are likely to increase consumer demand.”\n",
      "https://papers.ssrn.com/sol3/papers.cfm?abstract_id=1377964\n",
      "4. “This country does not rest on socialism and secularism. It rests on a bedrock of Jewish identity that has a lot to do with people who came here from Baghdad, Aleppo and Casablanca, and understand things that are deeply important about being Jewish in the Middle East and the Arab world.”  Link here.\n",
      "https://www.timesofisrael.com/nobody-hijacked-israel-its-just-not-what-its-pioneers-thought-theyd-created/\n",
      "5. ““In these fights between criminal factions, I root for the machete,” said Gilson Cardoso Fahur, a congressman from Parana state…”\n",
      "https://www.washingtonpost.com/world/the_americas/fifty-two-inmates-killed-in-brazil-prison-riot-16-decapitated/2019/07/29/90375c60-b21f-11e9-acc8-1d847bacca73_story.html?utm_term=.ff2bf649103c\n",
      "6. “Thanks to Hewlett and a few other people like him, I calculate that about 3% of billionaire philanthropy goes to climate change, compared to 0.01% of the federal budget.”  Or try this: “…the government recently admitted that its California high-speed rail project was going to be $40 billion over budget (it may also never get built). The cost overruns alone on a single government project equal four years of all the charity spending by all the billionaires in the country.”\n",
      "https://slatestarcodex.com/2019/07/29/against-against-billionaire-philanthropy/\n",
      "Monday assorted links\n",
      "1. Starting June 2020, all twelve APSR editors will be women.\n",
      "https://www.santafe.edu/news-center/news/righting-balance-new-apsr-editors-meet-sfi-discuss-gender-and-race-scientific-publishing\n",
      "2. Nevada and Delaware are the two states that have shrunk in per capita income terms since 1999.\n",
      "https://twitter.com/ernietedeschi/status/1155573389307891712\n",
      "3. Libertarian persuaded by East Asian industrial policy.\n",
      "https://medium.com/@byrnehobart/lessons-from-the-east-asian-economic-miracle-5f8d0f2354d9\n",
      "4. Patterns in black home ownership.\n",
      "https://www.idiosyncraticwhisk.com/2019/07/housing-part-356-black-homeownership.html\n",
      "5. Computers can’t tell if you’re happy when you smile.\n",
      "https://www.technologyreview.com/s/614015/emotion-recognition-technology-artifical-intelligence-inaccurate-psychology/\n",
      "Sunday assorted links\n",
      "1. What is it like being a Freemason?\n",
      "https://www.theatlantic.com/family/archive/2019/07/what-its-like-join-freemasons/594844/\n",
      "2. Why so few annuities?\n",
      "http://www.arnoldkling.com/blog/the-annuities-puzzle/\n",
      "3. Jennifer Doleac’s list of advice threads for economists and academics.\n",
      "https://twitter.com/jenniferdoleac/status/1155466351336669184\n",
      "4. Steve Pearlstein on Elizabeth Warren and private equity.\n",
      "https://www.washingtonpost.com/business/economy/sen-elizabeth-warrens-plan-for-private-equity-has-good-aims-but-misses-the-mark/2019/07/26/f66d6652-af1b-11e9-8e77-03b30bc29f64_story.html?utm_term=.4aab9b3d5900\n",
      "5. “When thinking about whether new generations can or cannot afford housing keep in mind that the currently existing stock of houses will all be sold to a new generation.” — That’s Alex T. on Twitter!\n",
      "https://twitter.com/ATabarrok/status/1155526631894786049\n"
     ]
    }
   ],
   "source": [
    "for article in soup.findAll('article'):\n",
    "    if ('post' in article['class']):\n",
    "        if('assorted' in (article.header.h2.text)):\n",
    "            print(article.header.h2.text)\n",
    "            for link in article.findAll('div'):\n",
    "                if('pf-content' in link['class']):\n",
    "                    for p in link.findAll('p'):\n",
    "                        print(p.text)\n",
    "                        print(p.findAll('a')[0].get('href'))\n",
    "    \n",
    "    \n"
   ]
  },
  {
   "cell_type": "code",
   "execution_count": 52,
   "metadata": {},
   "outputs": [
    {
     "name": "stdout",
     "output_type": "stream",
     "text": [
      "1\n",
      "2\n",
      "3\n",
      "4\n",
      "5\n"
     ]
    }
   ],
   "source": [
    "for i in range(5):\n",
    "    url = 'https://marginalrevolution.com/page/'\n",
    "    "
   ]
  },
  {
   "cell_type": "code",
   "execution_count": null,
   "metadata": {},
   "outputs": [],
   "source": []
  }
 ],
 "metadata": {
  "kernelspec": {
   "display_name": "Python 3",
   "language": "python",
   "name": "python3"
  },
  "language_info": {
   "codemirror_mode": {
    "name": "ipython",
    "version": 3
   },
   "file_extension": ".py",
   "mimetype": "text/x-python",
   "name": "python",
   "nbconvert_exporter": "python",
   "pygments_lexer": "ipython3",
   "version": "3.6.5"
  }
 },
 "nbformat": 4,
 "nbformat_minor": 2
}
